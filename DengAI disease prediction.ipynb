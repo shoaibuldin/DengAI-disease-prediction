{
 "cells": [
  {
   "cell_type": "markdown",
   "metadata": {},
   "source": [
    "# DengAi Disease Prediction\n",
    "    Shoaib ul din"
   ]
  },
  {
   "cell_type": "code",
   "execution_count": 1,
   "metadata": {},
   "outputs": [],
   "source": [
    "import pandas as pd\n",
    "import numpy as np\n",
    "\n",
    "\n",
    "from sklearn.model_selection import train_test_split\n",
    "from sklearn.linear_model import LinearRegression\n",
    "from sklearn import linear_model\n",
    "\n",
    "from sklearn.metrics import mean_absolute_error\n",
    "\n",
    "from sklearn.preprocessing import StandardScaler"
   ]
  },
  {
   "cell_type": "markdown",
   "metadata": {},
   "source": [
    "Importing the datasets"
   ]
  },
  {
   "cell_type": "code",
   "execution_count": 2,
   "metadata": {},
   "outputs": [],
   "source": [
    "X_train = pd.read_csv(r\"C:\\Users\\Shoaib ul din PC\\Desktop\\New folder\\dengue_prediction\\data\\dengue_features_train.csv\")\n",
    "Y_train = pd.read_csv(r\"C:\\Users\\Shoaib ul din PC\\Desktop\\New folder\\dengue_prediction\\data\\dengue_labels_train.csv\")\n",
    "X_test = pd.read_csv(r\"C:\\Users\\Shoaib ul din PC\\Desktop\\New folder\\dengue_prediction\\data\\dengue_features_test.csv\")\n",
    "Y_test = pd.read_csv(r\"C:\\Users\\Shoaib ul din PC\\Desktop\\New folder\\dengue_prediction\\data\\submission_format.csv\")"
   ]
  },
  {
   "cell_type": "markdown",
   "metadata": {},
   "source": [
    "#### Data Pre Processing"
   ]
  },
  {
   "cell_type": "code",
   "execution_count": 3,
   "metadata": {},
   "outputs": [],
   "source": [
    "def preProcessing(X, trainCheck):\n",
    "    # We have only two cities SO converting those into booleans\n",
    "    is_sj = X.city == 'sj'\n",
    "\n",
    "    #Getting the month from date\n",
    "    months = X.week_start_date.apply(getMonthFromDate)\n",
    "\n",
    "    # Removing the coloumns\n",
    "    X.drop(['city', 'year', 'weekofyear', 'week_start_date'], axis=1, inplace=True)\n",
    "    \n",
    "    if trainCheck:\n",
    "        # Drop the rows with null values\n",
    "        X.dropna(inplace=True)\n",
    "    else:\n",
    "        X.fillna(0,inplace=True)\n",
    "\n",
    "    # Standardizing\n",
    "    scaler = StandardScaler()\n",
    "    X[X.columns] = scaler.fit_transform(X)\n",
    "\n",
    "    # After Standarizing Adding the city\n",
    "    X['is_sj'] = is_sj.loc[X.index]\n",
    "\n",
    "    sliced_months = months.loc[X.index]\n",
    "    # Get dummies data for month\n",
    "    month_features = pd.get_dummies(sliced_months)\n",
    "    X = X.join(month_features)\n",
    "    \n",
    "    return X\n",
    "\n",
    "\n",
    "def getMonthFromDate(week_start_date):\n",
    "    return int(week_start_date[5:7])"
   ]
  },
  {
   "cell_type": "code",
   "execution_count": 6,
   "metadata": {},
   "outputs": [],
   "source": [
    "#Appying the preprocessing to the dataset\n",
    "X_train = preProcessing(X_train, trainCheck = True)\n",
    "X_test = preProcessing(X_test, trainCheck = False)"
   ]
  },
  {
   "cell_type": "code",
   "execution_count": 7,
   "metadata": {},
   "outputs": [],
   "source": [
    "# Selecting y values\n",
    "Y_train = Y_train.total_cases.loc[X_train.index]\n",
    "Y_test = Y_test.total_cases.loc[X_test.index]"
   ]
  },
  {
   "cell_type": "code",
   "execution_count": 8,
   "metadata": {},
   "outputs": [],
   "source": [
    "#Applying the linear model\n",
    "clf = linear_model.Ridge(alpha = 44)\n",
    "clf.fit(X_train, Y_train)\n",
    "Y_pred = clf.predict(X_test)"
   ]
  },
  {
   "cell_type": "code",
   "execution_count": 9,
   "metadata": {},
   "outputs": [
    {
     "data": {
      "text/plain": [
       "21.65009884094446"
      ]
     },
     "execution_count": 9,
     "metadata": {},
     "output_type": "execute_result"
    }
   ],
   "source": [
    "#Getting the MAE\n",
    "mean_absolute_error(Y_test, Y_pred)"
   ]
  },
  {
   "cell_type": "code",
   "execution_count": 10,
   "metadata": {},
   "outputs": [],
   "source": [
    "#Converting the prediction into Int as per requirment of dataset\n",
    "Y_pred = Y_pred.astype('int64')"
   ]
  },
  {
   "cell_type": "code",
   "execution_count": 11,
   "metadata": {},
   "outputs": [],
   "source": [
    "#Importing the submission format\n",
    "exe = pd.read_csv(r\"C:\\Users\\Shoaib ul din PC\\Desktop\\New folder\\dengue_prediction\\data\\submission_format.csv\")"
   ]
  },
  {
   "cell_type": "code",
   "execution_count": 12,
   "metadata": {},
   "outputs": [],
   "source": [
    "#Setting the predictions into total_cases\n",
    "exe.total_cases = Y_pred\n",
    "\n",
    "#Exporting the dataset into CSV for submission\n",
    "export_excel = exe.to_csv(r'C:\\Users\\Shoaib ul din PC\\Desktop\\New folder\\dengue_prediction\\data\\export_dataframe.csv', index = None, header=True)\n"
   ]
  }
 ],
 "metadata": {
  "kernelspec": {
   "display_name": "Python 3",
   "language": "python",
   "name": "python3"
  },
  "language_info": {
   "codemirror_mode": {
    "name": "ipython",
    "version": 3
   },
   "file_extension": ".py",
   "mimetype": "text/x-python",
   "name": "python",
   "nbconvert_exporter": "python",
   "pygments_lexer": "ipython3",
   "version": "3.7.1"
  }
 },
 "nbformat": 4,
 "nbformat_minor": 2
}
